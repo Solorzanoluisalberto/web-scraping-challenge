{
 "cells": [
  {
   "cell_type": "code",
   "execution_count": 1,
   "id": "abandoned-steps",
   "metadata": {},
   "outputs": [],
   "source": [
    "import pandas as pd\n",
    "from bs4 import BeautifulSoup\n",
    "import requests\n",
    "import os\n",
    "from splinter import Browser\n",
    "import shutil # for copy file (Image)\n",
    "from IPython.display import Image # show image"
   ]
  },
  {
   "cell_type": "code",
   "execution_count": 2,
   "id": "positive-drive",
   "metadata": {},
   "outputs": [],
   "source": [
    "executable_path = {\"executable_path\": \"C:\\Program Files\\Google\\Chrome\\Application\\chromedriver\"}\n",
    "browser = Browser(\"chrome\", **executable_path, headless=False)\n",
    "url = 'https://mars.nasa.gov/news/'\n",
    "html = browser.visit(url)\n",
    "\n",
    "# html = requests.get(url)\n",
    "html = browser.html\n",
    "soup = BeautifulSoup(html, 'lxml')\n",
    "# soup.prettify()\n"
   ]
  },
  {
   "cell_type": "code",
   "execution_count": 3,
   "id": "macro-basin",
   "metadata": {},
   "outputs": [
    {
     "data": {
      "text/plain": [
       "<div class=\"list_text\"><div class=\"list_date\">March 17, 2021</div><div class=\"content_title\"><a href=\"/news/8892/another-first-perseverance-captures-the-sounds-of-driving-on-mars/\" target=\"_self\">Another First: Perseverance Captures the Sounds of Driving on Mars</a></div><div class=\"article_teaser_body\">NASA’s newest rover recorded audio of itself crunching over the surface of the Red Planet, adding a whole new dimension to Mars exploration.</div></div>"
      ]
     },
     "execution_count": 3,
     "metadata": {},
     "output_type": "execute_result"
    }
   ],
   "source": [
    "data_containers = soup.find('div', class_='list_text')\n",
    "# print(len(data_containers))\n",
    "data_containers"
   ]
  },
  {
   "cell_type": "code",
   "execution_count": 4,
   "id": "incident-reduction",
   "metadata": {},
   "outputs": [],
   "source": [
    "# latest News Title Text.\n",
    "news_ = data_containers.find(class_='content_title')\n",
    "news_title = news_.string\n",
    "# latest News Paragraph\n",
    "tit_body = data_containers.find(class_='article_teaser_body')\n",
    "news_p = tit_body.string\n"
   ]
  },
  {
   "cell_type": "code",
   "execution_count": 5,
   "id": "accredited-theorem",
   "metadata": {},
   "outputs": [
    {
     "name": "stdout",
     "output_type": "stream",
     "text": [
      "News Title: Another First: Perseverance Captures the Sounds of Driving on Mars\n",
      "Paragraph: NASA’s newest rover recorded audio of itself crunching over the surface of the Red Planet, adding a whole new dimension to Mars exploration.\n"
     ]
    }
   ],
   "source": [
    "print(f'News Title: {news_title}')\n",
    "print(f'Paragraph: {news_p}')"
   ]
  },
  {
   "cell_type": "code",
   "execution_count": 6,
   "id": "automotive-interstate",
   "metadata": {},
   "outputs": [],
   "source": [
    "### JPL Mars Space Images - Featured Image"
   ]
  },
  {
   "cell_type": "code",
   "execution_count": 7,
   "id": "executive-coach",
   "metadata": {},
   "outputs": [],
   "source": [
    "url = 'https://data-class-jpl-space.s3.amazonaws.com/JPL_Space/index.html'\n",
    "browser.visit(url)\n",
    "html = browser.html\n",
    "soup1 = BeautifulSoup(html, 'html.parser')"
   ]
  },
  {
   "cell_type": "code",
   "execution_count": 8,
   "id": "relative-conjunction",
   "metadata": {},
   "outputs": [
    {
     "name": "stdout",
     "output_type": "stream",
     "text": [
      "<div class=\"header\">\n",
      " <nav class=\"navbar navbar-expand-lg\">\n",
      "  <a class=\"navbar-brand\" href=\"#\">\n",
      "   <img id=\"logo\" src=\"image/nasa.png\"/>\n",
      "   <span class=\"logo\">\n",
      "    Jet Propulsion Laboratory\n",
      "   </span>\n",
      "   <span class=\"logo1\">\n",
      "    California Institute of Technology\n",
      "   </span>\n",
      "  </a>\n",
      "  <button aria-controls=\"navbarNav\" aria-expanded=\"false\" aria-label=\"Toggle navigation\" class=\"navbar-toggler\" data-target=\"#navbarNav\" data-toggle=\"collapse\" type=\"button\">\n",
      "   <span class=\"navbar-toggler-icon\">\n",
      "   </span>\n",
      "  </button>\n",
      "  <div class=\"collapse navbar-collapse justify-content-end\" id=\"navbarNav\">\n",
      "   <ul class=\"navbar-nav\">\n",
      "    <li class=\"nav-item active\">\n",
      "     <a class=\"nav-link\" href=\"#\">\n",
      "      <i aria-hidden=\"true\" class=\"fa fa-bars\">\n",
      "      </i>\n",
      "      MENU\n",
      "      <i aria-hidden=\"true\" class=\"fa fa-search\">\n",
      "      </i>\n",
      "     </a>\n",
      "    </li>\n",
      "   </ul>\n",
      "  </div>\n",
      " </nav>\n",
      " <div class=\"floating_text_area\">\n",
      "  <h2 class=\"brand_title\">\n",
      "   FEATURED IMAGE\n",
      "  </h2>\n",
      "  <h1 class=\"media_feature_title\">\n",
      "   Dusty Space Cloud\n",
      "  </h1>\n",
      "  <br/>\n",
      "  <a class=\"showimg fancybox-thumbs\" href=\"image/featured/mars2.jpg\" target=\"_blank\">\n",
      "   <button class=\"btn btn-outline-light\">\n",
      "    FULL IMAGE\n",
      "   </button>\n",
      "  </a>\n",
      " </div>\n",
      " <img class=\"headerimage fade-in\" src=\"image/featured/mars2.jpg\"/>\n",
      "</div>\n",
      "\n"
     ]
    }
   ],
   "source": [
    "header = soup1.find('div', class_='header')\n",
    "print(header.prettify())"
   ]
  },
  {
   "cell_type": "code",
   "execution_count": 9,
   "id": "given-sister",
   "metadata": {},
   "outputs": [
    {
     "data": {
      "text/plain": [
       "<div class=\"floating_text_area\">\n",
       "<h2 class=\"brand_title\">FEATURED IMAGE</h2>\n",
       "<h1 class=\"media_feature_title\">Dusty Space Cloud</h1>\n",
       "<br/>\n",
       "<a class=\"showimg fancybox-thumbs\" href=\"image/featured/mars2.jpg\" target=\"_blank\"> <button class=\"btn btn-outline-light\"> FULL IMAGE</button></a>\n",
       "</div>"
      ]
     },
     "execution_count": 9,
     "metadata": {},
     "output_type": "execute_result"
    }
   ],
   "source": [
    "img_ = header.find(class_='floating_text_area')\n",
    "img_"
   ]
  },
  {
   "cell_type": "code",
   "execution_count": 10,
   "id": "forbidden-peter",
   "metadata": {},
   "outputs": [
    {
     "name": "stdout",
     "output_type": "stream",
     "text": [
      "mars2.jpg\n",
      "-----------\n",
      "  FULL IMAGE\n",
      "URL: https://data-class-jpl-space.s3.amazonaws.com/JPL_Space/image/featured/mars2.jpg\n"
     ]
    }
   ],
   "source": [
    "# Use Beautiful Soup's find() method to navigate and retrieve attributes\n",
    "link_img = img_.find('a', class_='showimg fancybox-thumbs')\n",
    "href_img = link_img['href']\n",
    "split_url = href_img.split('/')\n",
    "image_name = split_url[-1] # image name\n",
    "local_path_image = '../Images/' + image_name\n",
    "title = link_img.text\n",
    "print(image_name)\n",
    "print('-----------')\n",
    "print(title)\n",
    "featured_image_url='https://data-class-jpl-space.s3.amazonaws.com/JPL_Space/' + href_img\n",
    "# print('https://data-class-jpl-space.s3.amazonaws.com/JPL_Space/' + href)\n",
    "print(f'URL: {featured_image_url}')\n",
    "response = requests.get(featured_image_url, stream=True)\n",
    "with open(local_path_image, 'wb') as out_file:\n",
    "    shutil.copyfileobj(response.raw, out_file)\n",
    "#     self.sendImage(to_, path_out_file)"
   ]
  },
  {
   "cell_type": "code",
   "execution_count": 11,
   "id": "formed-printing",
   "metadata": {},
   "outputs": [
    {
     "data": {
      "text/html": [
       "<img src=\"../Images/mars2.jpg\"/>"
      ],
      "text/plain": [
       "<IPython.core.display.Image object>"
      ]
     },
     "execution_count": 11,
     "metadata": {},
     "output_type": "execute_result"
    }
   ],
   "source": [
    "#show image\n",
    "Image(url=local_path_image)"
   ]
  },
  {
   "cell_type": "code",
   "execution_count": null,
   "id": "alternative-international",
   "metadata": {},
   "outputs": [],
   "source": []
  }
 ],
 "metadata": {
  "kernelspec": {
   "display_name": "Python 3",
   "language": "python",
   "name": "python3"
  },
  "language_info": {
   "codemirror_mode": {
    "name": "ipython",
    "version": 3
   },
   "file_extension": ".py",
   "mimetype": "text/x-python",
   "name": "python",
   "nbconvert_exporter": "python",
   "pygments_lexer": "ipython3",
   "version": "3.8.5"
  }
 },
 "nbformat": 4,
 "nbformat_minor": 5
}
