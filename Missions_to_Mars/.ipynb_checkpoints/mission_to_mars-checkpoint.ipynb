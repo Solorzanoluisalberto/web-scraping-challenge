{
 "cells": [
  {
   "cell_type": "code",
   "execution_count": 1,
   "id": "abandoned-steps",
   "metadata": {},
   "outputs": [],
   "source": [
    "import pandas as pd\n",
    "from bs4 import BeautifulSoup\n",
    "import requests\n",
    "import os\n",
    "from splinter import Browser\n",
    "import shutil # for copy file (Image)\n",
    "from IPython.display import Image # show image"
   ]
  },
  {
   "cell_type": "code",
   "execution_count": 2,
   "id": "positive-drive",
   "metadata": {},
   "outputs": [],
   "source": [
    "executable_path = {\"executable_path\": \"C:\\Program Files\\Google\\Chrome\\Application\\chromedriver\"}\n",
    "browser = Browser(\"chrome\", **executable_path, headless=False)\n",
    "url = 'https://mars.nasa.gov/news/'\n",
    "html = browser.visit(url)\n",
    "\n",
    "# html = requests.get(url)\n",
    "html = browser.html\n",
    "soup = BeautifulSoup(html, 'lxml')\n",
    "# soup.prettify()\n"
   ]
  },
  {
   "cell_type": "code",
   "execution_count": 3,
   "id": "reported-championship",
   "metadata": {},
   "outputs": [
    {
     "data": {
      "text/plain": [
       "<div class=\"list_text\"><div class=\"list_date\">March 17, 2021</div><div class=\"content_title\"><a href=\"/news/8892/another-first-perseverance-captures-the-sounds-of-driving-on-mars/\" target=\"_self\">Another First: Perseverance Captures the Sounds of Driving on Mars</a></div><div class=\"article_teaser_body\">NASA’s newest rover recorded audio of itself crunching over the surface of the Red Planet, adding a whole new dimension to Mars exploration.</div></div>"
      ]
     },
     "execution_count": 3,
     "metadata": {},
     "output_type": "execute_result"
    }
   ],
   "source": [
    "data_containers = soup.find('div', class_='list_text')\n",
    "# print(len(data_containers))\n",
    "data_containers"
   ]
  },
  {
   "cell_type": "code",
   "execution_count": 4,
   "id": "brief-algorithm",
   "metadata": {},
   "outputs": [],
   "source": [
    "# latest News Title Text.\n",
    "news_ = data_containers.find(class_='content_title')\n",
    "news_title = news_.string\n",
    "# latest News Paragraph\n",
    "tit_body = data_containers.find(class_='article_teaser_body')\n",
    "news_p = tit_body.string\n"
   ]
  },
  {
   "cell_type": "code",
   "execution_count": 5,
   "id": "previous-gnome",
   "metadata": {},
   "outputs": [
    {
     "name": "stdout",
     "output_type": "stream",
     "text": [
      "News Title: Another First: Perseverance Captures the Sounds of Driving on Mars\n",
      "Paragraph: NASA’s newest rover recorded audio of itself crunching over the surface of the Red Planet, adding a whole new dimension to Mars exploration.\n"
     ]
    }
   ],
   "source": [
    "print(f'News Title: {news_title}')\n",
    "print(f'Paragraph: {news_p}')"
   ]
  },
  {
   "cell_type": "code",
   "execution_count": 6,
   "id": "automotive-interstate",
   "metadata": {},
   "outputs": [],
   "source": [
    "### JPL Mars Space Images - Featured Image"
   ]
  },
  {
   "cell_type": "code",
   "execution_count": 7,
   "id": "executive-coach",
   "metadata": {},
   "outputs": [],
   "source": [
    "url = 'https://data-class-jpl-space.s3.amazonaws.com/JPL_Space/index.html'\n",
    "browser.visit(url)\n",
    "html = browser.html\n",
    "soup1 = BeautifulSoup(html, 'html.parser')"
   ]
  },
  {
   "cell_type": "code",
   "execution_count": 8,
   "id": "relative-conjunction",
   "metadata": {},
   "outputs": [
    {
     "name": "stdout",
     "output_type": "stream",
     "text": [
      "<div class=\"header\">\n",
      " <nav class=\"navbar navbar-expand-lg\">\n",
      "  <a class=\"navbar-brand\" href=\"#\">\n",
      "   <img id=\"logo\" src=\"image/nasa.png\"/>\n",
      "   <span class=\"logo\">\n",
      "    Jet Propulsion Laboratory\n",
      "   </span>\n",
      "   <span class=\"logo1\">\n",
      "    California Institute of Technology\n",
      "   </span>\n",
      "  </a>\n",
      "  <button aria-controls=\"navbarNav\" aria-expanded=\"false\" aria-label=\"Toggle navigation\" class=\"navbar-toggler\" data-target=\"#navbarNav\" data-toggle=\"collapse\" type=\"button\">\n",
      "   <span class=\"navbar-toggler-icon\">\n",
      "   </span>\n",
      "  </button>\n",
      "  <div class=\"collapse navbar-collapse justify-content-end\" id=\"navbarNav\">\n",
      "   <ul class=\"navbar-nav\">\n",
      "    <li class=\"nav-item active\">\n",
      "     <a class=\"nav-link\" href=\"#\">\n",
      "      <i aria-hidden=\"true\" class=\"fa fa-bars\">\n",
      "      </i>\n",
      "      MENU\n",
      "      <i aria-hidden=\"true\" class=\"fa fa-search\">\n",
      "      </i>\n",
      "     </a>\n",
      "    </li>\n",
      "   </ul>\n",
      "  </div>\n",
      " </nav>\n",
      " <div class=\"floating_text_area\">\n",
      "  <h2 class=\"brand_title\">\n",
      "   FEATURED IMAGE\n",
      "  </h2>\n",
      "  <h1 class=\"media_feature_title\">\n",
      "   Dusty Space Cloud\n",
      "  </h1>\n",
      "  <br/>\n",
      "  <a class=\"showimg fancybox-thumbs\" href=\"image/featured/mars2.jpg\" target=\"_blank\">\n",
      "   <button class=\"btn btn-outline-light\">\n",
      "    FULL IMAGE\n",
      "   </button>\n",
      "  </a>\n",
      " </div>\n",
      " <img class=\"headerimage fade-in\" src=\"image/featured/mars2.jpg\"/>\n",
      "</div>\n",
      "\n"
     ]
    }
   ],
   "source": [
    "header = soup1.find('div', class_='header')\n",
    "print(header.prettify())"
   ]
  },
  {
   "cell_type": "code",
   "execution_count": 9,
   "id": "given-sister",
   "metadata": {},
   "outputs": [
    {
     "data": {
      "text/plain": [
       "<div class=\"floating_text_area\">\n",
       "<h2 class=\"brand_title\">FEATURED IMAGE</h2>\n",
       "<h1 class=\"media_feature_title\">Dusty Space Cloud</h1>\n",
       "<br/>\n",
       "<a class=\"showimg fancybox-thumbs\" href=\"image/featured/mars2.jpg\" target=\"_blank\"> <button class=\"btn btn-outline-light\"> FULL IMAGE</button></a>\n",
       "</div>"
      ]
     },
     "execution_count": 9,
     "metadata": {},
     "output_type": "execute_result"
    }
   ],
   "source": [
    "img_ = header.find(class_='floating_text_area')\n",
    "img_"
   ]
  },
  {
   "cell_type": "code",
   "execution_count": 10,
   "id": "forbidden-peter",
   "metadata": {},
   "outputs": [
    {
     "name": "stdout",
     "output_type": "stream",
     "text": [
      "mars2.jpg\n",
      "-----------\n",
      "  FULL IMAGE\n",
      "URL: https://data-class-jpl-space.s3.amazonaws.com/JPL_Space/image/featured/mars2.jpg\n"
     ]
    }
   ],
   "source": [
    "# Use Beautiful Soup's find() method to navigate and retrieve attributes\n",
    "link_img = img_.find('a', class_='showimg fancybox-thumbs')\n",
    "href_img = link_img['href']\n",
    "split_url = href_img.split('/')\n",
    "image_name = split_url[-1] # image name\n",
    "local_path_image = '../Images/' + image_name\n",
    "title = link_img.text\n",
    "print(image_name)\n",
    "print('-----------')\n",
    "print(title)\n",
    "featured_image_url='https://data-class-jpl-space.s3.amazonaws.com/JPL_Space/' + href_img\n",
    "# print('https://data-class-jpl-space.s3.amazonaws.com/JPL_Space/' + href)\n",
    "print(f'URL: {featured_image_url}')\n",
    "response = requests.get(featured_image_url, stream=True)\n",
    "with open(local_path_image, 'wb') as out_file:\n",
    "    shutil.copyfileobj(response.raw, out_file)\n",
    "#     self.sendImage(to_, path_out_file)"
   ]
  },
  {
   "cell_type": "code",
   "execution_count": 11,
   "id": "thermal-russia",
   "metadata": {},
   "outputs": [
    {
     "data": {
      "text/html": [
       "<img src=\"../Images/mars2.jpg\"/>"
      ],
      "text/plain": [
       "<IPython.core.display.Image object>"
      ]
     },
     "execution_count": 11,
     "metadata": {},
     "output_type": "execute_result"
    }
   ],
   "source": [
    "#show image\n",
    "Image(url=local_path_image)"
   ]
  },
  {
   "cell_type": "code",
   "execution_count": null,
   "id": "sized-gateway",
   "metadata": {},
   "outputs": [],
   "source": [
    "### Mars Facts"
   ]
  },
  {
   "cell_type": "code",
   "execution_count": 12,
   "id": "apparent-tampa",
   "metadata": {},
   "outputs": [],
   "source": [
    "# use Pandas to scrape the table containing facts about the planet including Diameter, Mass, etc.\n",
    "URL='https://space-facts.com/mars/'\n"
   ]
  },
  {
   "cell_type": "code",
   "execution_count": 14,
   "id": "pediatric-principal",
   "metadata": {},
   "outputs": [
    {
     "data": {
      "text/plain": [
       "[                      0                              1\n",
       " 0  Equatorial Diameter:                       6,792 km\n",
       " 1       Polar Diameter:                       6,752 km\n",
       " 2                 Mass:  6.39 × 10^23 kg (0.11 Earths)\n",
       " 3                Moons:            2 (Phobos & Deimos)\n",
       " 4       Orbit Distance:       227,943,824 km (1.38 AU)\n",
       " 5         Orbit Period:           687 days (1.9 years)\n",
       " 6  Surface Temperature:                   -87 to -5 °C\n",
       " 7         First Record:              2nd millennium BC\n",
       " 8          Recorded By:           Egyptian astronomers,\n",
       "   Mars - Earth Comparison             Mars            Earth\n",
       " 0               Diameter:         6,779 km        12,742 km\n",
       " 1                   Mass:  6.39 × 10^23 kg  5.97 × 10^24 kg\n",
       " 2                  Moons:                2                1\n",
       " 3      Distance from Sun:   227,943,824 km   149,598,262 km\n",
       " 4         Length of Year:   687 Earth days      365.24 days\n",
       " 5            Temperature:     -87 to -5 °C      -88 to 58°C,\n",
       "                       0                              1\n",
       " 0  Equatorial Diameter:                       6,792 km\n",
       " 1       Polar Diameter:                       6,752 km\n",
       " 2                 Mass:  6.39 × 10^23 kg (0.11 Earths)\n",
       " 3                Moons:            2 (Phobos & Deimos)\n",
       " 4       Orbit Distance:       227,943,824 km (1.38 AU)\n",
       " 5         Orbit Period:           687 days (1.9 years)\n",
       " 6  Surface Temperature:                   -87 to -5 °C\n",
       " 7         First Record:              2nd millennium BC\n",
       " 8          Recorded By:           Egyptian astronomers]"
      ]
     },
     "execution_count": 14,
     "metadata": {},
     "output_type": "execute_result"
    }
   ],
   "source": [
    "tables = pd.read_html(URL) # tablepress-p-mars\n",
    "tables"
   ]
  },
  {
   "cell_type": "code",
   "execution_count": 24,
   "id": "subjective-camping",
   "metadata": {},
   "outputs": [
    {
     "data": {
      "text/html": [
       "<div>\n",
       "<style scoped>\n",
       "    .dataframe tbody tr th:only-of-type {\n",
       "        vertical-align: middle;\n",
       "    }\n",
       "\n",
       "    .dataframe tbody tr th {\n",
       "        vertical-align: top;\n",
       "    }\n",
       "\n",
       "    .dataframe thead th {\n",
       "        text-align: right;\n",
       "    }\n",
       "</style>\n",
       "<table border=\"1\" class=\"dataframe\">\n",
       "  <thead>\n",
       "    <tr style=\"text-align: right;\">\n",
       "      <th></th>\n",
       "      <th>Value</th>\n",
       "    </tr>\n",
       "    <tr>\n",
       "      <th>Facts</th>\n",
       "      <th></th>\n",
       "    </tr>\n",
       "  </thead>\n",
       "  <tbody>\n",
       "    <tr>\n",
       "      <th>Equatorial Diameter:</th>\n",
       "      <td>6,792 km</td>\n",
       "    </tr>\n",
       "    <tr>\n",
       "      <th>Polar Diameter:</th>\n",
       "      <td>6,752 km</td>\n",
       "    </tr>\n",
       "    <tr>\n",
       "      <th>Mass:</th>\n",
       "      <td>6.39 × 10^23 kg (0.11 Earths)</td>\n",
       "    </tr>\n",
       "    <tr>\n",
       "      <th>Moons:</th>\n",
       "      <td>2 (Phobos &amp; Deimos)</td>\n",
       "    </tr>\n",
       "    <tr>\n",
       "      <th>Orbit Distance:</th>\n",
       "      <td>227,943,824 km (1.38 AU)</td>\n",
       "    </tr>\n",
       "    <tr>\n",
       "      <th>Orbit Period:</th>\n",
       "      <td>687 days (1.9 years)</td>\n",
       "    </tr>\n",
       "    <tr>\n",
       "      <th>Surface Temperature:</th>\n",
       "      <td>-87 to -5 °C</td>\n",
       "    </tr>\n",
       "    <tr>\n",
       "      <th>First Record:</th>\n",
       "      <td>2nd millennium BC</td>\n",
       "    </tr>\n",
       "    <tr>\n",
       "      <th>Recorded By:</th>\n",
       "      <td>Egyptian astronomers</td>\n",
       "    </tr>\n",
       "  </tbody>\n",
       "</table>\n",
       "</div>"
      ],
      "text/plain": [
       "                                              Value\n",
       "Facts                                              \n",
       "Equatorial Diameter:                       6,792 km\n",
       "Polar Diameter:                            6,752 km\n",
       "Mass:                 6.39 × 10^23 kg (0.11 Earths)\n",
       "Moons:                          2 (Phobos & Deimos)\n",
       "Orbit Distance:            227,943,824 km (1.38 AU)\n",
       "Orbit Period:                  687 days (1.9 years)\n",
       "Surface Temperature:                   -87 to -5 °C\n",
       "First Record:                     2nd millennium BC\n",
       "Recorded By:                   Egyptian astronomers"
      ]
     },
     "execution_count": 24,
     "metadata": {},
     "output_type": "execute_result"
    }
   ],
   "source": [
    "marts = tables[0]\n",
    "marts_facts = marts.rename(columns={0: \"Facts\", 1: \"Value\"})\n",
    "marts_facts.set_index(\"Facts\", inplace = True)\n",
    "marts_facts"
   ]
  },
  {
   "cell_type": "code",
   "execution_count": 18,
   "id": "available-audio",
   "metadata": {},
   "outputs": [],
   "source": [
    "### Mars Hemispheres"
   ]
  },
  {
   "cell_type": "code",
   "execution_count": 25,
   "id": "piano-whale",
   "metadata": {},
   "outputs": [],
   "source": [
    "USGS_URL = 'https://astrogeology.usgs.gov/search/results?q=hemisphere+enhanced&k1=target&v1=Mars'\n",
    "browser.visit(USGS_URL)"
   ]
  },
  {
   "cell_type": "code",
   "execution_count": 26,
   "id": "occupational-blame",
   "metadata": {},
   "outputs": [],
   "source": [
    "html_USGS = browser.html\n",
    "soup1 = BeautifulSoup(html_USGS, 'html.parser')"
   ]
  },
  {
   "cell_type": "code",
   "execution_count": null,
   "id": "political-daughter",
   "metadata": {},
   "outputs": [],
   "source": []
  }
 ],
 "metadata": {
  "kernelspec": {
   "display_name": "Python 3",
   "language": "python",
   "name": "python3"
  },
  "language_info": {
   "codemirror_mode": {
    "name": "ipython",
    "version": 3
   },
   "file_extension": ".py",
   "mimetype": "text/x-python",
   "name": "python",
   "nbconvert_exporter": "python",
   "pygments_lexer": "ipython3",
   "version": "3.8.5"
  }
 },
 "nbformat": 4,
 "nbformat_minor": 5
}
