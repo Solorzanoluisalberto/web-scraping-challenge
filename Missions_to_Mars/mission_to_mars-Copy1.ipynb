{
 "cells": [
  {
   "cell_type": "code",
   "execution_count": 1,
   "id": "abandoned-steps",
   "metadata": {},
   "outputs": [],
   "source": [
    "import pandas as pd\n",
    "from bs4 import BeautifulSoup\n",
    "import requests\n",
    "import os\n",
    "from splinter import Browser"
   ]
  },
  {
   "cell_type": "code",
   "execution_count": 2,
   "id": "positive-drive",
   "metadata": {},
   "outputs": [],
   "source": [
    "executable_path = {\"executable_path\": \"C:\\Program Files\\Google\\Chrome\\Application\\chromedriver\"}\n",
    "browser = Browser(\"chrome\", **executable_path, headless=False)"
   ]
  },
  {
   "cell_type": "code",
   "execution_count": 3,
   "id": "vietnamese-screen",
   "metadata": {},
   "outputs": [],
   "source": [
    "url = \"https://www.realtor.com/research/tag/hottest-zip-codes/\"\n",
    "# Retrieve page with the requests module\n",
    "response = requests.get(url)\n",
    "# Create BeautifulSoup object; parse with 'lxml'\n",
    "# soup = BeautifulSoup(response.text, 'lxml')\n",
    "soup = BeautifulSoup(response.content)"
   ]
  },
  {
   "cell_type": "code",
   "execution_count": 4,
   "id": "blocked-grass",
   "metadata": {},
   "outputs": [
    {
     "name": "stdout",
     "output_type": "stream",
     "text": [
      "<html>\n",
      " <head>\n",
      "  <title>\n",
      "   403 Forbidden\n",
      "  </title>\n",
      " </head>\n",
      " <body>\n",
      "  <center>\n",
      "   <h1>\n",
      "    403 Forbidden\n",
      "   </h1>\n",
      "  </center>\n",
      "  <hr/>\n",
      "  <center>\n",
      "   nginx\n",
      "  </center>\n",
      " </body>\n",
      "</html>\n",
      "\n"
     ]
    }
   ],
   "source": [
    "print(soup.prettify())"
   ]
  },
  {
   "cell_type": "code",
   "execution_count": null,
   "id": "reasonable-crack",
   "metadata": {},
   "outputs": [],
   "source": [
    "# url = 'https://mars.nasa.gov/news/'\n",
    "browser.visit(url)"
   ]
  },
  {
   "cell_type": "code",
   "execution_count": null,
   "id": "august-orchestra",
   "metadata": {},
   "outputs": [],
   "source": [
    "html = browser.html\n",
    "soup = BeautifulSoup(html, 'html.parser')"
   ]
  },
  {
   "cell_type": "code",
   "execution_count": null,
   "id": "sought-emerald",
   "metadata": {},
   "outputs": [],
   "source": [
    "ul_ = soup.find('ul', class_='item_list')\n"
   ]
  },
  {
   "cell_type": "code",
   "execution_count": null,
   "id": "yellow-fountain",
   "metadata": {},
   "outputs": [],
   "source": [
    "for value in ul_:\n",
    "    print(value.prettify())"
   ]
  },
  {
   "cell_type": "code",
   "execution_count": null,
   "id": "major-queen",
   "metadata": {},
   "outputs": [],
   "source": [
    "li_ = ul_.find('li', class_='slide')\n",
    "for news in li_:\n",
    "    print(news.prettify())\n"
   ]
  },
  {
   "cell_type": "code",
   "execution_count": null,
   "id": "unavailable-platinum",
   "metadata": {},
   "outputs": [],
   "source": [
    "title = li_.find('div', class_='content_title')\n",
    "news_title = title.string\n",
    "# news_title\n",
    "title_p = li_.find('div', class_='article_teaser_body')\n",
    "news_p = title_p.text\n",
    "\n",
    "print(f'News Title: {news_title}')\n",
    "print(f'Paragraph Text: {news_p}')\n",
    "\n",
    "# link = title.find('a')['href']\n",
    "# https://mars.nasa.gov\n",
    "# https://mars.nasa.gov/news/8892/another-first-perseverance-captures-the-sounds-of-driving-on-mars/"
   ]
  },
  {
   "cell_type": "code",
   "execution_count": null,
   "id": "automotive-interstate",
   "metadata": {},
   "outputs": [],
   "source": [
    "### JPL Mars Space Images - Featured Image"
   ]
  },
  {
   "cell_type": "code",
   "execution_count": null,
   "id": "executive-coach",
   "metadata": {},
   "outputs": [],
   "source": [
    "url = 'https://data-class-jpl-space.s3.amazonaws.com/JPL_Space/index.html'\n",
    "browser.visit(url)\n",
    "html = browser.html\n",
    "soup1 = BeautifulSoup(html, 'html.parser')"
   ]
  },
  {
   "cell_type": "code",
   "execution_count": null,
   "id": "relative-conjunction",
   "metadata": {},
   "outputs": [],
   "source": [
    "header = soup1.find('div', class_='header')\n",
    "header"
   ]
  },
  {
   "cell_type": "code",
   "execution_count": null,
   "id": "given-sister",
   "metadata": {},
   "outputs": [],
   "source": [
    "img_ = header.find(class_='headerimage fade-in')\n",
    "img_"
   ]
  },
  {
   "cell_type": "code",
   "execution_count": null,
   "id": "forbidden-peter",
   "metadata": {},
   "outputs": [],
   "source": []
  }
 ],
 "metadata": {
  "kernelspec": {
   "display_name": "Python 3",
   "language": "python",
   "name": "python3"
  },
  "language_info": {
   "codemirror_mode": {
    "name": "ipython",
    "version": 3
   },
   "file_extension": ".py",
   "mimetype": "text/x-python",
   "name": "python",
   "nbconvert_exporter": "python",
   "pygments_lexer": "ipython3",
   "version": "3.8.5"
  }
 },
 "nbformat": 4,
 "nbformat_minor": 5
}
